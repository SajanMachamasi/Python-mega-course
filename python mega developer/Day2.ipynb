{
 "cells": [
  {
   "cell_type": "code",
   "execution_count": 20,
   "id": "4aa6da13",
   "metadata": {},
   "outputs": [],
   "source": [
    "x=\"hello hex\""
   ]
  },
  {
   "cell_type": "code",
   "execution_count": 21,
   "id": "dc8515cf",
   "metadata": {},
   "outputs": [],
   "source": [
    "y=\" nepal\""
   ]
  },
  {
   "cell_type": "code",
   "execution_count": 22,
   "id": "241546d3",
   "metadata": {},
   "outputs": [],
   "source": [
    "z=x+y"
   ]
  },
  {
   "cell_type": "code",
   "execution_count": 24,
   "id": "35bb6f3e",
   "metadata": {},
   "outputs": [
    {
     "name": "stdout",
     "output_type": "stream",
     "text": [
      "hello hex nepal\n"
     ]
    }
   ],
   "source": [
    "print(z)"
   ]
  },
  {
   "cell_type": "code",
   "execution_count": 6,
   "id": "d6610252",
   "metadata": {},
   "outputs": [
    {
     "name": "stdout",
     "output_type": "stream",
     "text": [
      "first name :sajan\n",
      "last name :  machamasi\n"
     ]
    }
   ],
   "source": [
    "a=input(\"first name :\")\n",
    "b=input(\"last name : \")"
   ]
  },
  {
   "cell_type": "code",
   "execution_count": 7,
   "id": "534d1c49",
   "metadata": {},
   "outputs": [],
   "source": [
    "c=a+b"
   ]
  },
  {
   "cell_type": "code",
   "execution_count": 11,
   "id": "6ece7f42",
   "metadata": {},
   "outputs": [
    {
     "name": "stdout",
     "output_type": "stream",
     "text": [
      "my name is sajan machamasi\n"
     ]
    }
   ],
   "source": [
    "print(\"my name is \" +c)"
   ]
  },
  {
   "cell_type": "code",
   "execution_count": 13,
   "id": "dc8d45b2",
   "metadata": {},
   "outputs": [
    {
     "name": "stdout",
     "output_type": "stream",
     "text": [
      "enter the number :1\n",
      "enter the number2 :2\n"
     ]
    }
   ],
   "source": [
    "num1=int(input(\"enter the number :\"))\n",
    "num2=int(input(\"enter the number2 :\"))"
   ]
  },
  {
   "cell_type": "code",
   "execution_count": 14,
   "id": "fac83ce8",
   "metadata": {},
   "outputs": [],
   "source": [
    "sum1=num1+num2"
   ]
  },
  {
   "cell_type": "code",
   "execution_count": 15,
   "id": "aaa0c79e",
   "metadata": {},
   "outputs": [
    {
     "name": "stdout",
     "output_type": "stream",
     "text": [
      "3\n"
     ]
    }
   ],
   "source": [
    "print(sum1)"
   ]
  },
  {
   "cell_type": "code",
   "execution_count": 25,
   "id": "f7da0fa2",
   "metadata": {},
   "outputs": [
    {
     "name": "stdout",
     "output_type": "stream",
     "text": [
      "enter the number :0.6\n",
      "enter the number2 :0.7\n"
     ]
    }
   ],
   "source": [
    "num4=float(input(\"enter the number :\"))\n",
    "num3=float(input(\"enter the number2 :\"))"
   ]
  },
  {
   "cell_type": "code",
   "execution_count": 26,
   "id": "23989151",
   "metadata": {},
   "outputs": [],
   "source": [
    "sub2=num4-num3"
   ]
  },
  {
   "cell_type": "code",
   "execution_count": 27,
   "id": "d07f133d",
   "metadata": {},
   "outputs": [
    {
     "name": "stdout",
     "output_type": "stream",
     "text": [
      "-0.09999999999999998\n"
     ]
    }
   ],
   "source": [
    "print(sub2)"
   ]
  },
  {
   "cell_type": "code",
   "execution_count": 5,
   "id": "6c87006a",
   "metadata": {},
   "outputs": [
    {
     "name": "stdout",
     "output_type": "stream",
     "text": [
      "enter the number :1\n",
      "enter the number2 :2\n"
     ]
    }
   ],
   "source": [
    "num=float(input(\"enter the number :\"))\n",
    "num5=float(input(\"enter the number2 :\"))"
   ]
  },
  {
   "cell_type": "code",
   "execution_count": 6,
   "id": "11f195d5",
   "metadata": {},
   "outputs": [],
   "source": [
    "multi=num*num5"
   ]
  },
  {
   "cell_type": "code",
   "execution_count": 7,
   "id": "1546f396",
   "metadata": {},
   "outputs": [
    {
     "data": {
      "text/plain": [
       "2.0"
      ]
     },
     "execution_count": 7,
     "metadata": {},
     "output_type": "execute_result"
    }
   ],
   "source": [
    "multi"
   ]
  },
  {
   "cell_type": "code",
   "execution_count": 10,
   "id": "48c184ea",
   "metadata": {},
   "outputs": [
    {
     "name": "stdout",
     "output_type": "stream",
     "text": [
      "the multiple is 2.0\n"
     ]
    }
   ],
   "source": [
    "print(\"the multiple is\" , multi)"
   ]
  },
  {
   "cell_type": "code",
   "execution_count": 12,
   "id": "16648af1",
   "metadata": {},
   "outputs": [
    {
     "data": {
      "text/plain": [
       "4.0"
      ]
     },
     "execution_count": 12,
     "metadata": {},
     "output_type": "execute_result"
    }
   ],
   "source": [
    "multi*multi"
   ]
  },
  {
   "cell_type": "code",
   "execution_count": 16,
   "id": "af90f659",
   "metadata": {},
   "outputs": [
    {
     "data": {
      "text/plain": [
       "1.0"
      ]
     },
     "execution_count": 16,
     "metadata": {},
     "output_type": "execute_result"
    }
   ],
   "source": [
    "multi//multi"
   ]
  },
  {
   "cell_type": "code",
   "execution_count": null,
   "id": "78dcdba1",
   "metadata": {},
   "outputs": [],
   "source": []
  }
 ],
 "metadata": {
  "kernelspec": {
   "display_name": "Python 3 (ipykernel)",
   "language": "python",
   "name": "python3"
  },
  "language_info": {
   "codemirror_mode": {
    "name": "ipython",
    "version": 3
   },
   "file_extension": ".py",
   "mimetype": "text/x-python",
   "name": "python",
   "nbconvert_exporter": "python",
   "pygments_lexer": "ipython3",
   "version": "3.11.1"
  }
 },
 "nbformat": 4,
 "nbformat_minor": 5
}
