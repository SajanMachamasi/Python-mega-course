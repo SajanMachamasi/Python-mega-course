{
 "cells": [
  {
   "cell_type": "markdown",
   "id": "5a661dfb",
   "metadata": {},
   "source": [
    "# List"
   ]
  },
  {
   "cell_type": "code",
   "execution_count": 7,
   "id": "7809a973",
   "metadata": {},
   "outputs": [],
   "source": [
    "lst=[1,2,3,'hi',1.2,'sajan']"
   ]
  },
  {
   "cell_type": "code",
   "execution_count": 8,
   "id": "2857b025",
   "metadata": {},
   "outputs": [
    {
     "data": {
      "text/plain": [
       "list"
      ]
     },
     "execution_count": 8,
     "metadata": {},
     "output_type": "execute_result"
    }
   ],
   "source": [
    "type(lst)"
   ]
  },
  {
   "cell_type": "code",
   "execution_count": 9,
   "id": "cd93f5a2",
   "metadata": {},
   "outputs": [
    {
     "data": {
      "text/plain": [
       "3"
      ]
     },
     "execution_count": 9,
     "metadata": {},
     "output_type": "execute_result"
    }
   ],
   "source": [
    "lst[2]"
   ]
  },
  {
   "cell_type": "code",
   "execution_count": 12,
   "id": "e20e49ea",
   "metadata": {},
   "outputs": [
    {
     "data": {
      "text/plain": [
       "int"
      ]
     },
     "execution_count": 12,
     "metadata": {},
     "output_type": "execute_result"
    }
   ],
   "source": [
    "type(lst[2])"
   ]
  },
  {
   "cell_type": "code",
   "execution_count": 16,
   "id": "e288de3f",
   "metadata": {},
   "outputs": [
    {
     "name": "stdout",
     "output_type": "stream",
     "text": [
      "3\n"
     ]
    }
   ],
   "source": [
    "print(lst[2])"
   ]
  },
  {
   "cell_type": "code",
   "execution_count": 38,
   "id": "c11547cc",
   "metadata": {},
   "outputs": [],
   "source": [
    "lst=['sajan','rahul',1,3,4,'machamasi']"
   ]
  },
  {
   "cell_type": "code",
   "execution_count": 39,
   "id": "467d26b0",
   "metadata": {},
   "outputs": [
    {
     "data": {
      "text/plain": [
       "'rahul machamasi'"
      ]
     },
     "execution_count": 39,
     "metadata": {},
     "output_type": "execute_result"
    }
   ],
   "source": [
    "lst[1] +\" \"+  lst[5]"
   ]
  },
  {
   "cell_type": "code",
   "execution_count": 40,
   "id": "f3399e82",
   "metadata": {},
   "outputs": [
    {
     "data": {
      "text/plain": [
       "6"
      ]
     },
     "execution_count": 40,
     "metadata": {},
     "output_type": "execute_result"
    }
   ],
   "source": [
    "len(lst)"
   ]
  },
  {
   "cell_type": "code",
   "execution_count": 41,
   "id": "9ecb0611",
   "metadata": {},
   "outputs": [
    {
     "data": {
      "text/plain": [
       "'machamasi'"
      ]
     },
     "execution_count": 41,
     "metadata": {},
     "output_type": "execute_result"
    }
   ],
   "source": [
    "lst[-1]"
   ]
  },
  {
   "cell_type": "code",
   "execution_count": 42,
   "id": "bc77b21c",
   "metadata": {},
   "outputs": [
    {
     "data": {
      "text/plain": [
       "[]"
      ]
     },
     "execution_count": 42,
     "metadata": {},
     "output_type": "execute_result"
    }
   ],
   "source": [
    "lst[-1:-5]"
   ]
  },
  {
   "cell_type": "code",
   "execution_count": 44,
   "id": "8cf5144e",
   "metadata": {},
   "outputs": [],
   "source": [
    "lst.append('hex')"
   ]
  },
  {
   "cell_type": "code",
   "execution_count": 60,
   "id": "4795e693",
   "metadata": {},
   "outputs": [
    {
     "data": {
      "text/plain": [
       "['sajan', 'rahul', 1, 3, 4, 'machamasi', 'hex']"
      ]
     },
     "execution_count": 60,
     "metadata": {},
     "output_type": "execute_result"
    }
   ],
   "source": [
    "lst"
   ]
  },
  {
   "cell_type": "code",
   "execution_count": 19,
   "id": "73e14be5",
   "metadata": {},
   "outputs": [],
   "source": [
    "x=[]"
   ]
  },
  {
   "cell_type": "code",
   "execution_count": 20,
   "id": "aae3ee0d",
   "metadata": {},
   "outputs": [],
   "source": [
    "x.append(\"sajan\")"
   ]
  },
  {
   "cell_type": "code",
   "execution_count": 21,
   "id": "f645441d",
   "metadata": {},
   "outputs": [
    {
     "data": {
      "text/plain": [
       "['sajan']"
      ]
     },
     "execution_count": 21,
     "metadata": {},
     "output_type": "execute_result"
    }
   ],
   "source": [
    "x"
   ]
  },
  {
   "cell_type": "code",
   "execution_count": 22,
   "id": "ce445554",
   "metadata": {},
   "outputs": [],
   "source": [
    "x.insert(1,'code')"
   ]
  },
  {
   "cell_type": "code",
   "execution_count": 23,
   "id": "be45c625",
   "metadata": {},
   "outputs": [
    {
     "data": {
      "text/plain": [
       "['sajan', 'code']"
      ]
     },
     "execution_count": 23,
     "metadata": {},
     "output_type": "execute_result"
    }
   ],
   "source": [
    "x"
   ]
  },
  {
   "cell_type": "code",
   "execution_count": 24,
   "id": "e235380b",
   "metadata": {},
   "outputs": [],
   "source": [
    "x[1]=\"machamasi\""
   ]
  },
  {
   "cell_type": "code",
   "execution_count": 25,
   "id": "f1aaf8ad",
   "metadata": {},
   "outputs": [
    {
     "data": {
      "text/plain": [
       "['sajan', 'machamasi']"
      ]
     },
     "execution_count": 25,
     "metadata": {},
     "output_type": "execute_result"
    }
   ],
   "source": [
    "x"
   ]
  },
  {
   "cell_type": "code",
   "execution_count": 26,
   "id": "151d64e0",
   "metadata": {},
   "outputs": [],
   "source": [
    "x.insert(0,'mr')"
   ]
  },
  {
   "cell_type": "code",
   "execution_count": 27,
   "id": "b3ba1edd",
   "metadata": {},
   "outputs": [
    {
     "data": {
      "text/plain": [
       "['mr', 'sajan', 'machamasi']"
      ]
     },
     "execution_count": 27,
     "metadata": {},
     "output_type": "execute_result"
    }
   ],
   "source": [
    "x"
   ]
  },
  {
   "cell_type": "code",
   "execution_count": 28,
   "id": "69233efc",
   "metadata": {},
   "outputs": [],
   "source": [
    "x[0:2]=[\"mrs\",'rahul','gupta']"
   ]
  },
  {
   "cell_type": "code",
   "execution_count": 29,
   "id": "f1785206",
   "metadata": {},
   "outputs": [
    {
     "data": {
      "text/plain": [
       "['mrs', 'rahul', 'gupta', 'machamasi']"
      ]
     },
     "execution_count": 29,
     "metadata": {},
     "output_type": "execute_result"
    }
   ],
   "source": [
    "x"
   ]
  },
  {
   "cell_type": "code",
   "execution_count": 30,
   "id": "9bf9cb0a",
   "metadata": {},
   "outputs": [],
   "source": [
    "x[0:2]=['raj','kumar','twyana']"
   ]
  },
  {
   "cell_type": "code",
   "execution_count": 31,
   "id": "9d468ad3",
   "metadata": {},
   "outputs": [
    {
     "data": {
      "text/plain": [
       "['raj', 'kumar', 'twyana', 'gupta', 'machamasi']"
      ]
     },
     "execution_count": 31,
     "metadata": {},
     "output_type": "execute_result"
    }
   ],
   "source": [
    "x"
   ]
  },
  {
   "cell_type": "code",
   "execution_count": 32,
   "id": "38b42096",
   "metadata": {},
   "outputs": [],
   "source": [
    "x.remove('twyana')"
   ]
  },
  {
   "cell_type": "code",
   "execution_count": 33,
   "id": "accd1013",
   "metadata": {},
   "outputs": [
    {
     "data": {
      "text/plain": [
       "['raj', 'kumar', 'gupta', 'machamasi']"
      ]
     },
     "execution_count": 33,
     "metadata": {},
     "output_type": "execute_result"
    }
   ],
   "source": [
    "x"
   ]
  },
  {
   "cell_type": "code",
   "execution_count": 38,
   "id": "944cf43a",
   "metadata": {},
   "outputs": [],
   "source": [
    "x.clear()"
   ]
  },
  {
   "cell_type": "code",
   "execution_count": 39,
   "id": "8c675685",
   "metadata": {},
   "outputs": [
    {
     "data": {
      "text/plain": [
       "[]"
      ]
     },
     "execution_count": 39,
     "metadata": {},
     "output_type": "execute_result"
    }
   ],
   "source": [
    "x"
   ]
  },
  {
   "cell_type": "code",
   "execution_count": 42,
   "id": "d09ad07a",
   "metadata": {},
   "outputs": [],
   "source": [
    "a=['s','a','j','a','n']"
   ]
  },
  {
   "cell_type": "code",
   "execution_count": 43,
   "id": "37e3bcb7",
   "metadata": {},
   "outputs": [
    {
     "data": {
      "text/plain": [
       "'n'"
      ]
     },
     "execution_count": 43,
     "metadata": {},
     "output_type": "execute_result"
    }
   ],
   "source": [
    "a.pop()"
   ]
  },
  {
   "cell_type": "code",
   "execution_count": 44,
   "id": "bd49e344",
   "metadata": {},
   "outputs": [
    {
     "data": {
      "text/plain": [
       "'a'"
      ]
     },
     "execution_count": 44,
     "metadata": {},
     "output_type": "execute_result"
    }
   ],
   "source": [
    "a.pop()"
   ]
  },
  {
   "cell_type": "code",
   "execution_count": 45,
   "id": "9a6245eb",
   "metadata": {},
   "outputs": [
    {
     "data": {
      "text/plain": [
       "True"
      ]
     },
     "execution_count": 45,
     "metadata": {},
     "output_type": "execute_result"
    }
   ],
   "source": [
    "'a'in a"
   ]
  },
  {
   "cell_type": "code",
   "execution_count": 46,
   "id": "7b7069bf",
   "metadata": {},
   "outputs": [
    {
     "data": {
      "text/plain": [
       "False"
      ]
     },
     "execution_count": 46,
     "metadata": {},
     "output_type": "execute_result"
    }
   ],
   "source": [
    "'k' in a"
   ]
  },
  {
   "cell_type": "code",
   "execution_count": 47,
   "id": "5b06e2d5",
   "metadata": {},
   "outputs": [
    {
     "data": {
      "text/plain": [
       "'j'"
      ]
     },
     "execution_count": 47,
     "metadata": {},
     "output_type": "execute_result"
    }
   ],
   "source": [
    "a.pop()"
   ]
  },
  {
   "cell_type": "code",
   "execution_count": 48,
   "id": "28292e60",
   "metadata": {},
   "outputs": [
    {
     "data": {
      "text/plain": [
       "False"
      ]
     },
     "execution_count": 48,
     "metadata": {},
     "output_type": "execute_result"
    }
   ],
   "source": [
    "'j' in a"
   ]
  },
  {
   "cell_type": "code",
   "execution_count": 49,
   "id": "f4b9bb6a",
   "metadata": {},
   "outputs": [],
   "source": [
    "a.remove('a')"
   ]
  },
  {
   "cell_type": "code",
   "execution_count": 50,
   "id": "d741c989",
   "metadata": {},
   "outputs": [
    {
     "data": {
      "text/plain": [
       "['s']"
      ]
     },
     "execution_count": 50,
     "metadata": {},
     "output_type": "execute_result"
    }
   ],
   "source": [
    "a"
   ]
  },
  {
   "cell_type": "markdown",
   "id": "720a69b3",
   "metadata": {},
   "source": [
    "# Dictionary"
   ]
  },
  {
   "cell_type": "code",
   "execution_count": 70,
   "id": "de577d4c",
   "metadata": {},
   "outputs": [],
   "source": [
    "dct={'Name   '  :'Sajan machamasi','class  ':'13','Roll   ':'1','Section':'A','Program':'BCIS','College':'SGSS',}"
   ]
  },
  {
   "cell_type": "code",
   "execution_count": 71,
   "id": "460f7457",
   "metadata": {},
   "outputs": [
    {
     "data": {
      "text/plain": [
       "{'Name   ': 'Sajan machamasi',\n",
       " 'class  ': '13',\n",
       " 'Roll   ': '1',\n",
       " 'Section': 'A',\n",
       " 'Program': 'BCIS',\n",
       " 'College': 'SGSS'}"
      ]
     },
     "execution_count": 71,
     "metadata": {},
     "output_type": "execute_result"
    }
   ],
   "source": [
    "dct"
   ]
  },
  {
   "cell_type": "code",
   "execution_count": 72,
   "id": "49a0a122",
   "metadata": {},
   "outputs": [
    {
     "data": {
      "text/plain": [
       "dict_keys(['Name   ', 'class  ', 'Roll   ', 'Section', 'Program', 'College'])"
      ]
     },
     "execution_count": 72,
     "metadata": {},
     "output_type": "execute_result"
    }
   ],
   "source": [
    "dct.keys()"
   ]
  },
  {
   "cell_type": "code",
   "execution_count": 75,
   "id": "97c256db",
   "metadata": {},
   "outputs": [
    {
     "data": {
      "text/plain": [
       "'13'"
      ]
     },
     "execution_count": 75,
     "metadata": {},
     "output_type": "execute_result"
    }
   ],
   "source": [
    "dct['class  ']"
   ]
  },
  {
   "cell_type": "code",
   "execution_count": 78,
   "id": "3a96328c",
   "metadata": {},
   "outputs": [
    {
     "data": {
      "text/plain": [
       "dict_values(['Sajan machamasi', '13', '1', 'A', 'BCIS', 'SGSS', '10'])"
      ]
     },
     "execution_count": 78,
     "metadata": {},
     "output_type": "execute_result"
    }
   ],
   "source": [
    "dct.values()"
   ]
  },
  {
   "cell_type": "code",
   "execution_count": 82,
   "id": "2ea589c6",
   "metadata": {},
   "outputs": [],
   "source": [
    "dct['remarks']='gupta'"
   ]
  },
  {
   "cell_type": "code",
   "execution_count": 83,
   "id": "fc846bb8",
   "metadata": {},
   "outputs": [
    {
     "data": {
      "text/plain": [
       "{'Name   ': 'Sajan machamasi',\n",
       " 'class  ': '13',\n",
       " 'Roll   ': '1',\n",
       " 'Section': 'A',\n",
       " 'Program': 'BCIS',\n",
       " 'College': 'SGSS',\n",
       " 3: '10',\n",
       " 'remarks': 'gupta'}"
      ]
     },
     "execution_count": 83,
     "metadata": {},
     "output_type": "execute_result"
    }
   ],
   "source": [
    "dct"
   ]
  },
  {
   "cell_type": "code",
   "execution_count": 84,
   "id": "50743438",
   "metadata": {},
   "outputs": [
    {
     "data": {
      "text/plain": [
       "'gupta'"
      ]
     },
     "execution_count": 84,
     "metadata": {},
     "output_type": "execute_result"
    }
   ],
   "source": [
    "dct.pop('remarks')"
   ]
  },
  {
   "cell_type": "code",
   "execution_count": 85,
   "id": "72fa4adf",
   "metadata": {},
   "outputs": [
    {
     "data": {
      "text/plain": [
       "{'Name   ': 'Sajan machamasi',\n",
       " 'class  ': '13',\n",
       " 'Roll   ': '1',\n",
       " 'Section': 'A',\n",
       " 'Program': 'BCIS',\n",
       " 'College': 'SGSS',\n",
       " 3: '10'}"
      ]
     },
     "execution_count": 85,
     "metadata": {},
     "output_type": "execute_result"
    }
   ],
   "source": [
    "dct"
   ]
  },
  {
   "cell_type": "code",
   "execution_count": 86,
   "id": "3a975e5a",
   "metadata": {},
   "outputs": [
    {
     "data": {
      "text/plain": [
       "'10'"
      ]
     },
     "execution_count": 86,
     "metadata": {},
     "output_type": "execute_result"
    }
   ],
   "source": [
    "dct.pop(3)"
   ]
  },
  {
   "cell_type": "code",
   "execution_count": 87,
   "id": "45b50982",
   "metadata": {},
   "outputs": [
    {
     "data": {
      "text/plain": [
       "{'Name   ': 'Sajan machamasi',\n",
       " 'class  ': '13',\n",
       " 'Roll   ': '1',\n",
       " 'Section': 'A',\n",
       " 'Program': 'BCIS',\n",
       " 'College': 'SGSS'}"
      ]
     },
     "execution_count": 87,
     "metadata": {},
     "output_type": "execute_result"
    }
   ],
   "source": [
    "dct"
   ]
  },
  {
   "cell_type": "code",
   "execution_count": 96,
   "id": "8ef391ff",
   "metadata": {},
   "outputs": [],
   "source": [
    "dct.update({'reg. no':'1253-78964'})"
   ]
  },
  {
   "cell_type": "code",
   "execution_count": 97,
   "id": "bc5496cd",
   "metadata": {},
   "outputs": [
    {
     "data": {
      "text/plain": [
       "{'Name   ': 'Sajan machamasi',\n",
       " 'class  ': '13',\n",
       " 'Roll   ': '1',\n",
       " 'Section': 'A',\n",
       " 'Program': 'BCIS',\n",
       " 'College': 'SGSS',\n",
       " 'reg. no': '1253-78964'}"
      ]
     },
     "execution_count": 97,
     "metadata": {},
     "output_type": "execute_result"
    }
   ],
   "source": [
    "dct"
   ]
  },
  {
   "cell_type": "code",
   "execution_count": 98,
   "id": "7a169be9",
   "metadata": {},
   "outputs": [],
   "source": [
    "dct.get('reg.no')"
   ]
  },
  {
   "cell_type": "code",
   "execution_count": 99,
   "id": "cfe9e45e",
   "metadata": {},
   "outputs": [
    {
     "data": {
      "text/plain": [
       "{'Name   ': 'Sajan machamasi',\n",
       " 'class  ': '13',\n",
       " 'Roll   ': '1',\n",
       " 'Section': 'A',\n",
       " 'Program': 'BCIS',\n",
       " 'College': 'SGSS',\n",
       " 'reg. no': '1253-78964'}"
      ]
     },
     "execution_count": 99,
     "metadata": {},
     "output_type": "execute_result"
    }
   ],
   "source": [
    "dct"
   ]
  },
  {
   "cell_type": "code",
   "execution_count": 100,
   "id": "1298881b",
   "metadata": {},
   "outputs": [
    {
     "data": {
      "text/plain": [
       "'1253-78964'"
      ]
     },
     "execution_count": 100,
     "metadata": {},
     "output_type": "execute_result"
    }
   ],
   "source": [
    "dct.get(\"reg. no\")"
   ]
  },
  {
   "cell_type": "markdown",
   "id": "2a923abf",
   "metadata": {},
   "source": [
    "# Tuples"
   ]
  },
  {
   "cell_type": "code",
   "execution_count": 105,
   "id": "d54c8f16",
   "metadata": {},
   "outputs": [],
   "source": [
    "a=(1,2,1,3,'hi')"
   ]
  },
  {
   "cell_type": "code",
   "execution_count": 108,
   "id": "9ba7ee88",
   "metadata": {},
   "outputs": [
    {
     "data": {
      "text/plain": [
       "2"
      ]
     },
     "execution_count": 108,
     "metadata": {},
     "output_type": "execute_result"
    }
   ],
   "source": [
    "a.count(1)"
   ]
  },
  {
   "cell_type": "code",
   "execution_count": 110,
   "id": "10b4eb4b",
   "metadata": {},
   "outputs": [
    {
     "data": {
      "text/plain": [
       "1"
      ]
     },
     "execution_count": 110,
     "metadata": {},
     "output_type": "execute_result"
    }
   ],
   "source": [
    "a[0]"
   ]
  },
  {
   "cell_type": "code",
   "execution_count": 111,
   "id": "ad5af2bc",
   "metadata": {},
   "outputs": [
    {
     "data": {
      "text/plain": [
       "3"
      ]
     },
     "execution_count": 111,
     "metadata": {},
     "output_type": "execute_result"
    }
   ],
   "source": [
    "a[3]"
   ]
  },
  {
   "cell_type": "code",
   "execution_count": null,
   "id": "833b7cf0",
   "metadata": {},
   "outputs": [],
   "source": []
  }
 ],
 "metadata": {
  "kernelspec": {
   "display_name": "Python 3 (ipykernel)",
   "language": "python",
   "name": "python3"
  },
  "language_info": {
   "codemirror_mode": {
    "name": "ipython",
    "version": 3
   },
   "file_extension": ".py",
   "mimetype": "text/x-python",
   "name": "python",
   "nbconvert_exporter": "python",
   "pygments_lexer": "ipython3",
   "version": "3.11.1"
  }
 },
 "nbformat": 4,
 "nbformat_minor": 5
}
