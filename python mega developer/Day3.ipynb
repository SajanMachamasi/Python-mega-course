{
 "cells": [
  {
   "cell_type": "markdown",
   "id": "f0a9831d",
   "metadata": {},
   "source": [
    "# Operators"
   ]
  },
  {
   "cell_type": "markdown",
   "id": "4cda7aff",
   "metadata": {},
   "source": [
    "Arithmetic Operators"
   ]
  },
  {
   "cell_type": "code",
   "execution_count": 2,
   "id": "6152d1c6",
   "metadata": {},
   "outputs": [
    {
     "name": "stdout",
     "output_type": "stream",
     "text": [
      "3\n"
     ]
    }
   ],
   "source": [
    "a=1\n",
    "b=2\n",
    "sum=a+b\n",
    "print(sum)"
   ]
  },
  {
   "cell_type": "code",
   "execution_count": 3,
   "id": "a33d7624",
   "metadata": {},
   "outputs": [
    {
     "name": "stdout",
     "output_type": "stream",
     "text": [
      "-1\n"
     ]
    }
   ],
   "source": [
    "sub=a-b\n",
    "print(sub)"
   ]
  },
  {
   "cell_type": "code",
   "execution_count": 1,
   "id": "288f20fb",
   "metadata": {},
   "outputs": [
    {
     "name": "stdout",
     "output_type": "stream",
     "text": [
      "enter the number: 4\n",
      "enter the number: 4\n"
     ]
    }
   ],
   "source": [
    "m=float(input(\"enter the number: \"))\n",
    "n=float(input(\"enter the number: \"))"
   ]
  },
  {
   "cell_type": "code",
   "execution_count": 2,
   "id": "cad3c845",
   "metadata": {},
   "outputs": [],
   "source": [
    "add=m+n\n",
    "multiple=m*n\n",
    "divide=m/n\n",
    "subtract=m-n\n",
    "divide2=m//n\n",
    "exp=m**n\n",
    "mod=m%n"
   ]
  },
  {
   "cell_type": "code",
   "execution_count": 3,
   "id": "ac74309d",
   "metadata": {},
   "outputs": [
    {
     "data": {
      "text/plain": [
       "8.0"
      ]
     },
     "execution_count": 3,
     "metadata": {},
     "output_type": "execute_result"
    }
   ],
   "source": [
    "add"
   ]
  },
  {
   "cell_type": "code",
   "execution_count": 4,
   "id": "bc0b1d49",
   "metadata": {},
   "outputs": [
    {
     "data": {
      "text/plain": [
       "16.0"
      ]
     },
     "execution_count": 4,
     "metadata": {},
     "output_type": "execute_result"
    }
   ],
   "source": [
    "multiple"
   ]
  },
  {
   "cell_type": "code",
   "execution_count": 5,
   "id": "74169229",
   "metadata": {},
   "outputs": [
    {
     "data": {
      "text/plain": [
       "1.0"
      ]
     },
     "execution_count": 5,
     "metadata": {},
     "output_type": "execute_result"
    }
   ],
   "source": [
    "divide"
   ]
  },
  {
   "cell_type": "code",
   "execution_count": 6,
   "id": "2e5923dc",
   "metadata": {},
   "outputs": [
    {
     "data": {
      "text/plain": [
       "0.0"
      ]
     },
     "execution_count": 6,
     "metadata": {},
     "output_type": "execute_result"
    }
   ],
   "source": [
    "subtract"
   ]
  },
  {
   "cell_type": "code",
   "execution_count": 7,
   "id": "2f38c633",
   "metadata": {},
   "outputs": [
    {
     "data": {
      "text/plain": [
       "1.0"
      ]
     },
     "execution_count": 7,
     "metadata": {},
     "output_type": "execute_result"
    }
   ],
   "source": [
    "divide"
   ]
  },
  {
   "cell_type": "code",
   "execution_count": 8,
   "id": "0ff166c1",
   "metadata": {},
   "outputs": [
    {
     "data": {
      "text/plain": [
       "1.0"
      ]
     },
     "execution_count": 8,
     "metadata": {},
     "output_type": "execute_result"
    }
   ],
   "source": [
    "divide2"
   ]
  },
  {
   "cell_type": "code",
   "execution_count": 9,
   "id": "2169580b",
   "metadata": {},
   "outputs": [
    {
     "data": {
      "text/plain": [
       "256.0"
      ]
     },
     "execution_count": 9,
     "metadata": {},
     "output_type": "execute_result"
    }
   ],
   "source": [
    "exp"
   ]
  },
  {
   "cell_type": "code",
   "execution_count": 10,
   "id": "b212f749",
   "metadata": {},
   "outputs": [
    {
     "data": {
      "text/plain": [
       "0.0"
      ]
     },
     "execution_count": 10,
     "metadata": {},
     "output_type": "execute_result"
    }
   ],
   "source": [
    "mod"
   ]
  },
  {
   "cell_type": "markdown",
   "id": "322cc621",
   "metadata": {},
   "source": [
    "Assignment Operators"
   ]
  },
  {
   "cell_type": "code",
   "execution_count": 13,
   "id": "f3b8c3b1",
   "metadata": {},
   "outputs": [
    {
     "name": "stdout",
     "output_type": "stream",
     "text": [
      "enter the number1\n"
     ]
    }
   ],
   "source": [
    "m=int(input(\"enter the number\"))"
   ]
  },
  {
   "cell_type": "code",
   "execution_count": 14,
   "id": "8f08bf0f",
   "metadata": {},
   "outputs": [],
   "source": [
    "m+=4"
   ]
  },
  {
   "cell_type": "code",
   "execution_count": 15,
   "id": "c3aebb70",
   "metadata": {},
   "outputs": [
    {
     "data": {
      "text/plain": [
       "5"
      ]
     },
     "execution_count": 15,
     "metadata": {},
     "output_type": "execute_result"
    }
   ],
   "source": [
    "m"
   ]
  },
  {
   "cell_type": "code",
   "execution_count": 16,
   "id": "b3e3daa9",
   "metadata": {},
   "outputs": [],
   "source": [
    "m*=4"
   ]
  },
  {
   "cell_type": "code",
   "execution_count": 17,
   "id": "c3c30eae",
   "metadata": {},
   "outputs": [
    {
     "data": {
      "text/plain": [
       "20"
      ]
     },
     "execution_count": 17,
     "metadata": {},
     "output_type": "execute_result"
    }
   ],
   "source": [
    "m"
   ]
  },
  {
   "cell_type": "code",
   "execution_count": 18,
   "id": "cedbe678",
   "metadata": {},
   "outputs": [],
   "source": [
    "m-=4"
   ]
  },
  {
   "cell_type": "code",
   "execution_count": 19,
   "id": "680a7803",
   "metadata": {},
   "outputs": [
    {
     "data": {
      "text/plain": [
       "16"
      ]
     },
     "execution_count": 19,
     "metadata": {},
     "output_type": "execute_result"
    }
   ],
   "source": [
    "m"
   ]
  },
  {
   "cell_type": "code",
   "execution_count": 20,
   "id": "7a7b7858",
   "metadata": {},
   "outputs": [
    {
     "data": {
      "text/plain": [
       "16"
      ]
     },
     "execution_count": 20,
     "metadata": {},
     "output_type": "execute_result"
    }
   ],
   "source": [
    "m"
   ]
  },
  {
   "cell_type": "markdown",
   "id": "c3bd8689",
   "metadata": {},
   "source": [
    "Comparision Operators"
   ]
  },
  {
   "cell_type": "code",
   "execution_count": 1,
   "id": "376d745f",
   "metadata": {},
   "outputs": [
    {
     "name": "stdout",
     "output_type": "stream",
     "text": [
      "enter the number: 2\n",
      "enter the number: 3\n"
     ]
    }
   ],
   "source": [
    "s=float(input(\"enter the number: \"))\n",
    "d=float(input(\"enter the number: \"))"
   ]
  },
  {
   "cell_type": "code",
   "execution_count": 2,
   "id": "28503a5e",
   "metadata": {},
   "outputs": [
    {
     "data": {
      "text/plain": [
       "False"
      ]
     },
     "execution_count": 2,
     "metadata": {},
     "output_type": "execute_result"
    }
   ],
   "source": [
    "s==d #equal to"
   ]
  },
  {
   "cell_type": "code",
   "execution_count": 3,
   "id": "835ffbdd",
   "metadata": {},
   "outputs": [
    {
     "data": {
      "text/plain": [
       "False"
      ]
     },
     "execution_count": 3,
     "metadata": {},
     "output_type": "execute_result"
    }
   ],
   "source": [
    "s>d   #greater than"
   ]
  },
  {
   "cell_type": "code",
   "execution_count": 4,
   "id": "e47de50e",
   "metadata": {},
   "outputs": [
    {
     "data": {
      "text/plain": [
       "True"
      ]
     },
     "execution_count": 4,
     "metadata": {},
     "output_type": "execute_result"
    }
   ],
   "source": [
    "s<d #less than"
   ]
  },
  {
   "cell_type": "code",
   "execution_count": 5,
   "id": "9bd5702a",
   "metadata": {},
   "outputs": [
    {
     "data": {
      "text/plain": [
       "True"
      ]
     },
     "execution_count": 5,
     "metadata": {},
     "output_type": "execute_result"
    }
   ],
   "source": [
    "s<=d   #less equal to"
   ]
  },
  {
   "cell_type": "code",
   "execution_count": 6,
   "id": "6b11a45f",
   "metadata": {},
   "outputs": [
    {
     "data": {
      "text/plain": [
       "False"
      ]
     },
     "execution_count": 6,
     "metadata": {},
     "output_type": "execute_result"
    }
   ],
   "source": [
    "s>=d  #greater equal to  "
   ]
  },
  {
   "cell_type": "code",
   "execution_count": 7,
   "id": "de1f9d41",
   "metadata": {},
   "outputs": [
    {
     "data": {
      "text/plain": [
       "True"
      ]
     },
     "execution_count": 7,
     "metadata": {},
     "output_type": "execute_result"
    }
   ],
   "source": [
    "s!=d   #not equal to "
   ]
  },
  {
   "cell_type": "markdown",
   "id": "3eccd08e",
   "metadata": {},
   "source": [
    "Logical Operators"
   ]
  },
  {
   "cell_type": "code",
   "execution_count": 9,
   "id": "cabf1a36",
   "metadata": {},
   "outputs": [
    {
     "data": {
      "text/plain": [
       "False"
      ]
     },
     "execution_count": 9,
     "metadata": {},
     "output_type": "execute_result"
    }
   ],
   "source": [
    "2<3 and   1<0 #and operators"
   ]
  },
  {
   "cell_type": "code",
   "execution_count": 15,
   "id": "6a87aca4",
   "metadata": {},
   "outputs": [
    {
     "data": {
      "text/plain": [
       "False"
      ]
     },
     "execution_count": 15,
     "metadata": {},
     "output_type": "execute_result"
    }
   ],
   "source": [
    "s>2 or d>3 #or operators"
   ]
  },
  {
   "cell_type": "code",
   "execution_count": 14,
   "id": "8cf17a62",
   "metadata": {},
   "outputs": [
    {
     "data": {
      "text/plain": [
       "True"
      ]
     },
     "execution_count": 14,
     "metadata": {},
     "output_type": "execute_result"
    }
   ],
   "source": [
    "not(2<3 and 5<0)"
   ]
  },
  {
   "cell_type": "markdown",
   "id": "9f22b3af",
   "metadata": {},
   "source": [
    "# Data Types"
   ]
  },
  {
   "cell_type": "markdown",
   "id": "a46dddb4",
   "metadata": {},
   "source": [
    "String"
   ]
  },
  {
   "cell_type": "code",
   "execution_count": 37,
   "id": "3058bee9",
   "metadata": {},
   "outputs": [],
   "source": [
    "x= \"my name is sajan machamasi \""
   ]
  },
  {
   "cell_type": "code",
   "execution_count": 38,
   "id": "e21852e5",
   "metadata": {},
   "outputs": [
    {
     "data": {
      "text/plain": [
       "27"
      ]
     },
     "execution_count": 38,
     "metadata": {},
     "output_type": "execute_result"
    }
   ],
   "source": [
    "len(x)"
   ]
  },
  {
   "cell_type": "code",
   "execution_count": 39,
   "id": "73e1a0ea",
   "metadata": {},
   "outputs": [
    {
     "data": {
      "text/plain": [
       "'sajan'"
      ]
     },
     "execution_count": 39,
     "metadata": {},
     "output_type": "execute_result"
    }
   ],
   "source": [
    "x[11:16]"
   ]
  },
  {
   "cell_type": "code",
   "execution_count": 40,
   "id": "52d8dbb6",
   "metadata": {},
   "outputs": [
    {
     "data": {
      "text/plain": [
       "'ajan machamasi '"
      ]
     },
     "execution_count": 40,
     "metadata": {},
     "output_type": "execute_result"
    }
   ],
   "source": [
    "x[12::]"
   ]
  },
  {
   "cell_type": "code",
   "execution_count": 41,
   "id": "ce52c23a",
   "metadata": {},
   "outputs": [
    {
     "data": {
      "text/plain": [
       "' machamasi'"
      ]
     },
     "execution_count": 41,
     "metadata": {},
     "output_type": "execute_result"
    }
   ],
   "source": [
    "x[-11:-1]"
   ]
  },
  {
   "cell_type": "code",
   "execution_count": 42,
   "id": "252e53f4",
   "metadata": {},
   "outputs": [],
   "source": [
    "d= \"i am a student\""
   ]
  },
  {
   "cell_type": "code",
   "execution_count": 43,
   "id": "a72ef9ea",
   "metadata": {},
   "outputs": [
    {
     "data": {
      "text/plain": [
       "14"
      ]
     },
     "execution_count": 43,
     "metadata": {},
     "output_type": "execute_result"
    }
   ],
   "source": [
    "len(d)"
   ]
  },
  {
   "cell_type": "code",
   "execution_count": 44,
   "id": "cb20d696",
   "metadata": {},
   "outputs": [
    {
     "data": {
      "text/plain": [
       "'tneduts a ma i'"
      ]
     },
     "execution_count": 44,
     "metadata": {},
     "output_type": "execute_result"
    }
   ],
   "source": [
    "d[::-1]"
   ]
  },
  {
   "cell_type": "code",
   "execution_count": 45,
   "id": "58b95339",
   "metadata": {},
   "outputs": [],
   "source": [
    "z=d.split()"
   ]
  },
  {
   "cell_type": "code",
   "execution_count": 46,
   "id": "5ed0d6c5",
   "metadata": {},
   "outputs": [
    {
     "data": {
      "text/plain": [
       "['i', 'am', 'a', 'student']"
      ]
     },
     "execution_count": 46,
     "metadata": {},
     "output_type": "execute_result"
    }
   ],
   "source": [
    "z"
   ]
  },
  {
   "cell_type": "code",
   "execution_count": 47,
   "id": "296c3184",
   "metadata": {},
   "outputs": [],
   "source": [
    "b=\"i/am/a/student\"\n"
   ]
  },
  {
   "cell_type": "code",
   "execution_count": 51,
   "id": "db2f1e3d",
   "metadata": {},
   "outputs": [],
   "source": [
    "c=b.split(\"/\") #use the sign which is use in the sentence such as (\"/\")to sepr"
   ]
  },
  {
   "cell_type": "code",
   "execution_count": 52,
   "id": "ff66b4a2",
   "metadata": {},
   "outputs": [
    {
     "data": {
      "text/plain": [
       "['i', 'am', 'a', 'student']"
      ]
     },
     "execution_count": 52,
     "metadata": {},
     "output_type": "execute_result"
    }
   ],
   "source": [
    "c"
   ]
  },
  {
   "cell_type": "code",
   "execution_count": 61,
   "id": "b54d5dd1",
   "metadata": {},
   "outputs": [],
   "source": [
    "d=\"Ixamxaxstudent\""
   ]
  },
  {
   "cell_type": "code",
   "execution_count": 62,
   "id": "031420b4",
   "metadata": {},
   "outputs": [],
   "source": [
    "e=d.split(\"x\")"
   ]
  },
  {
   "cell_type": "code",
   "execution_count": 63,
   "id": "3be878ee",
   "metadata": {},
   "outputs": [
    {
     "data": {
      "text/plain": [
       "['I', 'am', 'a', 'student']"
      ]
     },
     "execution_count": 63,
     "metadata": {},
     "output_type": "execute_result"
    }
   ],
   "source": [
    "e"
   ]
  },
  {
   "cell_type": "code",
   "execution_count": 64,
   "id": "ccfe6710",
   "metadata": {},
   "outputs": [],
   "source": [
    "str1=\"i am sajan\""
   ]
  },
  {
   "cell_type": "code",
   "execution_count": 65,
   "id": "d299d1de",
   "metadata": {},
   "outputs": [
    {
     "data": {
      "text/plain": [
       "'I am sajan'"
      ]
     },
     "execution_count": 65,
     "metadata": {},
     "output_type": "execute_result"
    }
   ],
   "source": [
    "str1.capitalize() #it helps to capital the first word"
   ]
  },
  {
   "cell_type": "code",
   "execution_count": 67,
   "id": "0828f9ae",
   "metadata": {},
   "outputs": [
    {
     "data": {
      "text/plain": [
       "'ixamxaxstudent'"
      ]
     },
     "execution_count": 67,
     "metadata": {},
     "output_type": "execute_result"
    }
   ],
   "source": [
    "d.casefold() #it helps to change first word capital to small"
   ]
  },
  {
   "cell_type": "code",
   "execution_count": 70,
   "id": "285e57ec",
   "metadata": {},
   "outputs": [
    {
     "data": {
      "text/plain": [
       "'      Ixamxaxstudent     '"
      ]
     },
     "execution_count": 70,
     "metadata": {},
     "output_type": "execute_result"
    }
   ],
   "source": [
    "d.center(25) #it helps to take to increse "
   ]
  },
  {
   "cell_type": "code",
   "execution_count": 73,
   "id": "f362a941",
   "metadata": {},
   "outputs": [
    {
     "data": {
      "text/plain": [
       "2"
      ]
     },
     "execution_count": 73,
     "metadata": {},
     "output_type": "execute_result"
    }
   ],
   "source": [
    "d.count(\"t\") #it helps to count the word "
   ]
  },
  {
   "cell_type": "code",
   "execution_count": 74,
   "id": "23cc6d56",
   "metadata": {},
   "outputs": [
    {
     "data": {
      "text/plain": [
       "b'Ixamxaxstudent'"
      ]
     },
     "execution_count": 74,
     "metadata": {},
     "output_type": "execute_result"
    }
   ],
   "source": [
    "d.encode()"
   ]
  },
  {
   "cell_type": "code",
   "execution_count": 75,
   "id": "cfda021e",
   "metadata": {},
   "outputs": [
    {
     "data": {
      "text/plain": [
       "True"
      ]
     },
     "execution_count": 75,
     "metadata": {},
     "output_type": "execute_result"
    }
   ],
   "source": [
    "d.isalpha()"
   ]
  },
  {
   "cell_type": "code",
   "execution_count": 79,
   "id": "0443fbdc",
   "metadata": {},
   "outputs": [
    {
     "data": {
      "text/plain": [
       "False"
      ]
     },
     "execution_count": 79,
     "metadata": {},
     "output_type": "execute_result"
    }
   ],
   "source": [
    "d.endswith(\"i\") #it helps to show the word truely end the sentence or not"
   ]
  },
  {
   "cell_type": "code",
   "execution_count": 81,
   "id": "bf28f517",
   "metadata": {},
   "outputs": [
    {
     "data": {
      "text/plain": [
       "'Ixamxaxstudent'"
      ]
     },
     "execution_count": 81,
     "metadata": {},
     "output_type": "execute_result"
    }
   ],
   "source": [
    "d.expandtabs(33) "
   ]
  },
  {
   "cell_type": "code",
   "execution_count": null,
   "id": "f3791a4c",
   "metadata": {},
   "outputs": [],
   "source": []
  }
 ],
 "metadata": {
  "kernelspec": {
   "display_name": "Python 3 (ipykernel)",
   "language": "python",
   "name": "python3"
  },
  "language_info": {
   "codemirror_mode": {
    "name": "ipython",
    "version": 3
   },
   "file_extension": ".py",
   "mimetype": "text/x-python",
   "name": "python",
   "nbconvert_exporter": "python",
   "pygments_lexer": "ipython3",
   "version": "3.11.1"
  }
 },
 "nbformat": 4,
 "nbformat_minor": 5
}
